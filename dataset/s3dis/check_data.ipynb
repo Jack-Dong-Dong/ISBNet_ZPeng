{
 "cells": [
  {
   "cell_type": "code",
   "execution_count": 5,
   "metadata": {},
   "outputs": [],
   "source": [
    "from tqdm import tqdm\n",
    "import os\n",
    "import glob\n",
    "import torch"
   ]
  },
  {
   "cell_type": "code",
   "execution_count": 3,
   "metadata": {},
   "outputs": [],
   "source": [
    "root_path = '/home/pengzhen/code/pointcloud_dataset_set/dataset/s3dis'"
   ]
  },
  {
   "cell_type": "code",
   "execution_count": 23,
   "metadata": {},
   "outputs": [
    {
     "name": "stdout",
     "output_type": "stream",
     "text": [
      "['Area_1_WC_1', 'Area_1_conferenceRoom_1', 'Area_1_conferenceRoom_2', 'Area_1_copyRoom_1', 'Area_1_hallway_1', 'Area_1_hallway_2', 'Area_1_hallway_3', 'Area_1_hallway_4', 'Area_1_hallway_5', 'Area_1_hallway_8', 'Area_1_office_1', 'Area_1_office_10', 'Area_1_office_11', 'Area_1_office_12', 'Area_1_office_13', 'Area_1_office_14', 'Area_1_office_15', 'Area_1_office_16', 'Area_1_office_17', 'Area_1_office_18', 'Area_1_office_19', 'Area_1_office_2', 'Area_1_office_20', 'Area_1_office_21', 'Area_1_office_22', 'Area_1_office_23', 'Area_1_office_24', 'Area_1_office_25', 'Area_1_office_26', 'Area_1_office_27', 'Area_1_office_28', 'Area_1_office_29', 'Area_1_office_3', 'Area_1_office_30', 'Area_1_office_4', 'Area_1_office_5', 'Area_1_office_6', 'Area_1_office_7', 'Area_1_office_8', 'Area_1_office_9', 'Area_1_pantry_1', 'Area_2_WC_1', 'Area_2_WC_2', 'Area_2_conferenceRoom_1', 'Area_2_hallway_1', 'Area_2_hallway_11', 'Area_2_hallway_12', 'Area_2_hallway_2', 'Area_2_hallway_3', 'Area_2_hallway_4', 'Area_2_hallway_6', 'Area_2_hallway_7', 'Area_2_hallway_9', 'Area_2_office_1', 'Area_2_office_10', 'Area_2_office_11', 'Area_2_office_12', 'Area_2_office_13', 'Area_2_office_14', 'Area_2_office_2', 'Area_2_office_3', 'Area_2_office_4', 'Area_2_office_5', 'Area_2_office_6', 'Area_2_office_7', 'Area_2_office_8', 'Area_2_office_9', 'Area_2_storage_1', 'Area_2_storage_2', 'Area_2_storage_3', 'Area_2_storage_4', 'Area_2_storage_5', 'Area_2_storage_6', 'Area_2_storage_7', 'Area_2_storage_8', 'Area_2_storage_9', 'Area_3_WC_1', 'Area_3_WC_2', 'Area_3_conferenceRoom_1', 'Area_3_hallway_1', 'Area_3_hallway_2', 'Area_3_hallway_3', 'Area_3_hallway_4', 'Area_3_hallway_5', 'Area_3_hallway_6', 'Area_3_lounge_1', 'Area_3_lounge_2', 'Area_3_office_1', 'Area_3_office_10', 'Area_3_office_2', 'Area_3_office_3', 'Area_3_office_4', 'Area_3_office_5', 'Area_3_office_6', 'Area_3_office_7', 'Area_3_office_8', 'Area_3_office_9', 'Area_3_storage_1', 'Area_3_storage_2', 'Area_4_WC_1', 'Area_4_WC_2', 'Area_4_WC_3', 'Area_4_WC_4', 'Area_4_conferenceRoom_1', 'Area_4_conferenceRoom_2', 'Area_4_conferenceRoom_3', 'Area_4_hallway_1', 'Area_4_hallway_10', 'Area_4_hallway_11', 'Area_4_hallway_12', 'Area_4_hallway_13', 'Area_4_hallway_14', 'Area_4_hallway_2', 'Area_4_hallway_3', 'Area_4_hallway_4', 'Area_4_hallway_5', 'Area_4_hallway_6', 'Area_4_hallway_7', 'Area_4_hallway_8', 'Area_4_hallway_9', 'Area_4_lobby_2', 'Area_4_office_1', 'Area_4_office_10', 'Area_4_office_11', 'Area_4_office_12', 'Area_4_office_13', 'Area_4_office_14', 'Area_4_office_15', 'Area_4_office_16', 'Area_4_office_17', 'Area_4_office_18', 'Area_4_office_19', 'Area_4_office_2', 'Area_4_office_20', 'Area_4_office_21', 'Area_4_office_22', 'Area_4_office_3', 'Area_4_office_4', 'Area_4_office_5', 'Area_4_office_6', 'Area_4_office_7', 'Area_4_office_8', 'Area_4_office_9', 'Area_4_storage_1', 'Area_4_storage_2', 'Area_4_storage_3', 'Area_4_storage_4', 'Area_5_WC_1', 'Area_5_WC_2', 'Area_5_conferenceRoom_1', 'Area_5_conferenceRoom_2', 'Area_5_conferenceRoom_3', 'Area_5_hallway_10', 'Area_5_hallway_11', 'Area_5_hallway_12', 'Area_5_hallway_13', 'Area_5_hallway_14', 'Area_5_hallway_15', 'Area_5_hallway_3', 'Area_5_hallway_4', 'Area_5_hallway_5', 'Area_5_hallway_6', 'Area_5_hallway_7', 'Area_5_hallway_8', 'Area_5_hallway_9', 'Area_5_lobby_1', 'Area_5_office_1', 'Area_5_office_10', 'Area_5_office_11', 'Area_5_office_12', 'Area_5_office_13', 'Area_5_office_14', 'Area_5_office_15', 'Area_5_office_16', 'Area_5_office_17', 'Area_5_office_18', 'Area_5_office_19', 'Area_5_office_2', 'Area_5_office_20', 'Area_5_office_21', 'Area_5_office_22', 'Area_5_office_23', 'Area_5_office_24', 'Area_5_office_25', 'Area_5_office_26', 'Area_5_office_27', 'Area_5_office_28', 'Area_5_office_29', 'Area_5_office_3', 'Area_5_office_30', 'Area_5_office_31', 'Area_5_office_32', 'Area_5_office_33', 'Area_5_office_34', 'Area_5_office_35', 'Area_5_office_36', 'Area_5_office_39', 'Area_5_office_4', 'Area_5_office_41', 'Area_5_office_42', 'Area_5_office_5', 'Area_5_office_6', 'Area_5_office_7', 'Area_5_office_8', 'Area_5_office_9', 'Area_5_pantry_1', 'Area_5_storage_1', 'Area_5_storage_2', 'Area_5_storage_3', 'Area_5_storage_4', 'Area_6_conferenceRoom_1', 'Area_6_copyRoom_1', 'Area_6_hallway_3', 'Area_6_hallway_4', 'Area_6_hallway_5', 'Area_6_hallway_6', 'Area_6_lounge_1', 'Area_6_office_1', 'Area_6_office_10', 'Area_6_office_11', 'Area_6_office_12', 'Area_6_office_13', 'Area_6_office_14', 'Area_6_office_15', 'Area_6_office_16', 'Area_6_office_17', 'Area_6_office_18', 'Area_6_office_19', 'Area_6_office_2', 'Area_6_office_20', 'Area_6_office_21', 'Area_6_office_22', 'Area_6_office_23', 'Area_6_office_24', 'Area_6_office_25', 'Area_6_office_26', 'Area_6_office_27', 'Area_6_office_28', 'Area_6_office_29', 'Area_6_office_3', 'Area_6_office_30', 'Area_6_office_31', 'Area_6_office_32', 'Area_6_office_33', 'Area_6_office_34', 'Area_6_office_35', 'Area_6_office_36', 'Area_6_office_37', 'Area_6_office_4', 'Area_6_office_5', 'Area_6_office_6', 'Area_6_office_7', 'Area_6_office_8', 'Area_6_office_9', 'Area_6_pantry_1']\n"
     ]
    }
   ],
   "source": [
    "superpoints_files = sorted(glob.glob(os.path.join(root_path, \"ISBNet_superpoints/*.pth\")))\n",
    "superpoints_files_t = []\n",
    "for superpoints_file in superpoints_files:\n",
    "    superpoints_file = superpoints_file.split('/')[-1].split('.')[0]\n",
    "    superpoints_files_t.append(superpoints_file)\n",
    "print(superpoints_files_t)\n",
    "    "
   ]
  },
  {
   "cell_type": "code",
   "execution_count": 24,
   "metadata": {},
   "outputs": [
    {
     "name": "stdout",
     "output_type": "stream",
     "text": [
      "['Area_1_WC_1', 'Area_1_conferenceRoom_1', 'Area_1_conferenceRoom_2', 'Area_1_copyRoom_1', 'Area_1_hallway_1', 'Area_1_hallway_2', 'Area_1_hallway_3', 'Area_1_hallway_4', 'Area_1_hallway_5', 'Area_1_hallway_8', 'Area_1_office_10', 'Area_1_office_11', 'Area_1_office_12', 'Area_1_office_13', 'Area_1_office_14', 'Area_1_office_15', 'Area_1_office_16', 'Area_1_office_17', 'Area_1_office_18', 'Area_1_office_19', 'Area_1_office_1', 'Area_1_office_20', 'Area_1_office_21', 'Area_1_office_22', 'Area_1_office_23', 'Area_1_office_24', 'Area_1_office_25', 'Area_1_office_26', 'Area_1_office_27', 'Area_1_office_28', 'Area_1_office_29', 'Area_1_office_2', 'Area_1_office_30', 'Area_1_office_3', 'Area_1_office_4', 'Area_1_office_5', 'Area_1_office_6', 'Area_1_office_7', 'Area_1_office_8', 'Area_1_office_9', 'Area_1_pantry_1', 'Area_2_WC_1', 'Area_2_WC_2', 'Area_2_conferenceRoom_1', 'Area_2_hallway_11', 'Area_2_hallway_12', 'Area_2_hallway_1', 'Area_2_hallway_2', 'Area_2_hallway_3', 'Area_2_hallway_4', 'Area_2_hallway_6', 'Area_2_hallway_7', 'Area_2_hallway_9', 'Area_2_office_10', 'Area_2_office_11', 'Area_2_office_12', 'Area_2_office_13', 'Area_2_office_14', 'Area_2_office_1', 'Area_2_office_2', 'Area_2_office_3', 'Area_2_office_4', 'Area_2_office_5', 'Area_2_office_6', 'Area_2_office_7', 'Area_2_office_8', 'Area_2_office_9', 'Area_2_storage_1', 'Area_2_storage_2', 'Area_2_storage_3', 'Area_2_storage_4', 'Area_2_storage_5', 'Area_2_storage_6', 'Area_2_storage_7', 'Area_2_storage_8', 'Area_2_storage_9', 'Area_3_WC_1', 'Area_3_WC_2', 'Area_3_conferenceRoom_1', 'Area_3_hallway_1', 'Area_3_hallway_2', 'Area_3_hallway_3', 'Area_3_hallway_4', 'Area_3_hallway_5', 'Area_3_hallway_6', 'Area_3_lounge_1', 'Area_3_lounge_2', 'Area_3_office_10', 'Area_3_office_1', 'Area_3_office_2', 'Area_3_office_3', 'Area_3_office_4', 'Area_3_office_5', 'Area_3_office_6', 'Area_3_office_7', 'Area_3_office_8', 'Area_3_office_9', 'Area_3_storage_1', 'Area_3_storage_2', 'Area_4_WC_1', 'Area_4_WC_2', 'Area_4_WC_3', 'Area_4_WC_4', 'Area_4_conferenceRoom_1', 'Area_4_conferenceRoom_2', 'Area_4_conferenceRoom_3', 'Area_4_hallway_10', 'Area_4_hallway_11', 'Area_4_hallway_12', 'Area_4_hallway_13', 'Area_4_hallway_14', 'Area_4_hallway_1', 'Area_4_hallway_2', 'Area_4_hallway_3', 'Area_4_hallway_4', 'Area_4_hallway_5', 'Area_4_hallway_6', 'Area_4_hallway_7', 'Area_4_hallway_8', 'Area_4_hallway_9', 'Area_4_lobby_2', 'Area_4_office_10', 'Area_4_office_11', 'Area_4_office_12', 'Area_4_office_13', 'Area_4_office_14', 'Area_4_office_15', 'Area_4_office_16', 'Area_4_office_17', 'Area_4_office_18', 'Area_4_office_19', 'Area_4_office_1', 'Area_4_office_20', 'Area_4_office_21', 'Area_4_office_22', 'Area_4_office_2', 'Area_4_office_3', 'Area_4_office_4', 'Area_4_office_5', 'Area_4_office_6', 'Area_4_office_7', 'Area_4_office_8', 'Area_4_office_9', 'Area_4_storage_1', 'Area_4_storage_2', 'Area_4_storage_3', 'Area_4_storage_4', 'Area_5_WC_1', 'Area_5_WC_2', 'Area_5_conferenceRoom_1', 'Area_5_conferenceRoom_2', 'Area_5_conferenceRoom_3', 'Area_5_hallway_10', 'Area_5_hallway_11', 'Area_5_hallway_12', 'Area_5_hallway_13', 'Area_5_hallway_14', 'Area_5_hallway_15', 'Area_5_hallway_3', 'Area_5_hallway_4', 'Area_5_hallway_5', 'Area_5_hallway_6', 'Area_5_hallway_7', 'Area_5_hallway_8', 'Area_5_hallway_9', 'Area_5_lobby_1', 'Area_5_office_10', 'Area_5_office_11', 'Area_5_office_12', 'Area_5_office_13', 'Area_5_office_14', 'Area_5_office_15', 'Area_5_office_16', 'Area_5_office_17', 'Area_5_office_18', 'Area_5_office_19', 'Area_5_office_1', 'Area_5_office_20', 'Area_5_office_21', 'Area_5_office_22', 'Area_5_office_23', 'Area_5_office_24', 'Area_5_office_25', 'Area_5_office_26', 'Area_5_office_27', 'Area_5_office_28', 'Area_5_office_29', 'Area_5_office_2', 'Area_5_office_30', 'Area_5_office_31', 'Area_5_office_32', 'Area_5_office_33', 'Area_5_office_34', 'Area_5_office_35', 'Area_5_office_36', 'Area_5_office_39', 'Area_5_office_3', 'Area_5_office_41', 'Area_5_office_42', 'Area_5_office_4', 'Area_5_office_5', 'Area_5_office_6', 'Area_5_office_7', 'Area_5_office_8', 'Area_5_office_9', 'Area_5_pantry_1', 'Area_5_storage_1', 'Area_5_storage_2', 'Area_5_storage_3', 'Area_5_storage_4', 'Area_6_conferenceRoom_1', 'Area_6_copyRoom_1', 'Area_6_hallway_3', 'Area_6_hallway_4', 'Area_6_hallway_5', 'Area_6_hallway_6', 'Area_6_lounge_1', 'Area_6_office_10', 'Area_6_office_11', 'Area_6_office_12', 'Area_6_office_13', 'Area_6_office_14', 'Area_6_office_15', 'Area_6_office_16', 'Area_6_office_17', 'Area_6_office_18', 'Area_6_office_19', 'Area_6_office_1', 'Area_6_office_20', 'Area_6_office_21', 'Area_6_office_22', 'Area_6_office_23', 'Area_6_office_24', 'Area_6_office_25', 'Area_6_office_26', 'Area_6_office_27', 'Area_6_office_28', 'Area_6_office_29', 'Area_6_office_2', 'Area_6_office_30', 'Area_6_office_31', 'Area_6_office_32', 'Area_6_office_33', 'Area_6_office_34', 'Area_6_office_35', 'Area_6_office_36', 'Area_6_office_37', 'Area_6_office_3', 'Area_6_office_4', 'Area_6_office_5', 'Area_6_office_6', 'Area_6_office_7', 'Area_6_office_8', 'Area_6_office_9', 'Area_6_pantry_1']\n"
     ]
    }
   ],
   "source": [
    "preprocess_files = sorted(glob.glob(os.path.join(root_path, \"ISBNet_preprocess//*\")))\n",
    "preprocess_files_t = []\n",
    "for preprocess_file in preprocess_files:\n",
    "    preprocess_file = preprocess_file.split('/')[-1].split('_')\n",
    "    preprocess_file = '_'.join(preprocess_file[:4])\n",
    "    preprocess_files_t.append(preprocess_file)\n",
    "\n",
    "print(preprocess_files_t)"
   ]
  },
  {
   "cell_type": "code",
   "execution_count": 25,
   "metadata": {},
   "outputs": [
    {
     "name": "stdout",
     "output_type": "stream",
     "text": [
      "255 255\n"
     ]
    },
    {
     "data": {
      "text/plain": [
       "[]"
      ]
     },
     "execution_count": 25,
     "metadata": {},
     "output_type": "execute_result"
    }
   ],
   "source": [
    "print(len(preprocess_files_t), len(superpoints_files_t))\n",
    "\n",
    "deletion_list = []\n",
    "\n",
    "for preprocess_file in preprocess_files_t:\n",
    "    if preprocess_file not in superpoints_files_t:\n",
    "        deletion_list.append(preprocess_file)\n",
    "\n",
    "deletion_list"
   ]
  }
 ],
 "metadata": {
  "kernelspec": {
   "display_name": "mink_py38_cuda111",
   "language": "python",
   "name": "python3"
  },
  "language_info": {
   "codemirror_mode": {
    "name": "ipython",
    "version": 3
   },
   "file_extension": ".py",
   "mimetype": "text/x-python",
   "name": "python",
   "nbconvert_exporter": "python",
   "pygments_lexer": "ipython3",
   "version": "3.8.19"
  }
 },
 "nbformat": 4,
 "nbformat_minor": 2
}
